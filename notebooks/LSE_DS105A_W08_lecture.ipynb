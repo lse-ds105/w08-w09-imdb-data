{
 "cells": [
  {
   "cell_type": "markdown",
   "metadata": {},
   "source": [
    "LSE Data Science Institute | DS105A (2023/24) | Week 08\n",
    "\n",
    "# 🗓️ Week 08: Pre-processing and grouping data with pandas, a groupby-apply tutorial\n",
    "\n",
    "Theme: Cleaning and reshaping data\n",
    "\n",
    "**LAST UPDATED:** 23 November 2023\n",
    "\n",
    "**AUTHOR:** Dr [Jon Cardoso-Silva](https://jonjoncardoso.github.io)\n",
    "\n",
    "-----\n"
   ]
  },
  {
   "cell_type": "markdown",
   "metadata": {},
   "source": [
    "# **📚 PREPARATION**\n",
    "\n",
    "1. Clone this repository to your computer.\n",
    "2. Add it to your VS Code workspace.\n",
    "3. Go to [IMDb Non-Commercial Datasets](https://developer.imdb.com/non-commercial-datasets/) page, and download all `tsv.gz` files from there, place all of that under the `data/raw/` folder. This folder is gitignored, we don't want to push large data files to GitHub!\n",
    "4. Run:\n",
    "\n",
    "    ```bash\n",
    "    pip install -r requirements.txt\n",
    "    ```"
   ]
  },
  {
   "cell_type": "markdown",
   "metadata": {},
   "source": [
    "## ⚙️ Setup"
   ]
  },
  {
   "cell_type": "code",
   "execution_count": 18,
   "metadata": {},
   "outputs": [],
   "source": [
    "import pandas as pd\n",
    "import matplotlib.pyplot as plt\n",
    "\n",
    "from plotnine import *\n",
    "from pprint import pprint\n",
    "from tqdm.notebook import tqdm\n",
    "\n",
    "# Configure some settings for high quality plots\n",
    "%config InlineBackend.figure_formats = ['svg']\n",
    "%matplotlib inline"
   ]
  },
  {
   "cell_type": "markdown",
   "metadata": {},
   "source": [
    "# Part 1: Read zipped files\n",
    "\n",
    "You will have noticed that the files we downloaded from IMDb are compressed, which means they were transformed from **plain text** into a convenient **binary format** that uses less space. This is a good practice when handling large text-based files, making them easier to store and transfer. However, we _do_ need to read the files into memory, and for that, we need to decompress them.\n",
    "\n",
    "**How to decompress files?**\n",
    "\n",
    "- If you are on Windows, you can use software like [7-Zip](https://www.7-zip.org/). After installing it, right-click on the file and select \"Extract here\".\n",
    "- If you are on Mac, you can use the built-in Archive Utility. Right-click on the file and select \"Open with\" > \"Archive Utility\". Or, simply double-click on the file.\n",
    "\n",
    "**🐼 `pandas` for the rescue!**\n",
    "\n",
    "Luckily, `pandas` has our back. It can read compressed files directly without the need to decompress them first. If you specify the `compression` argument, the `pd.read_csv()` function can read compressed files directly  <sup>\\[[1](https://pandas.pydata.org/pandas-docs/stable/reference/api/pandas.read_csv.html)\\]</sup>\n",
    "\n",
    "If the file inside the compressed `.gz` file was a CSV, we could read it like this:\n",
    "\n",
    "```python\n",
    "pd.read_csv(\"../data/raw/name.basics.tsv.gz\", compression=\"gzip\").head()\n",
    "```\n",
    "\n",
    "However, note that the files we downloaded from IMDb are **TSV** files, not CSV. TSV stands for **Tab-Separated Values**, and it is a format similar to CSV, but instead of using commas to separate values, it uses tabs (`\\t`). Why use TSV? Who knows. The developers thought it was a good idea, I guess. \n",
    "\n",
    "Anyway, since the format is still very similar to CSV, we can use the same function to read it, but we need to specify the `sep` argument to tell `pandas` that the separator is a tab (`\\t`):"
   ]
  },
  {
   "cell_type": "markdown",
   "metadata": {},
   "source": [
    "## 1.1: 👽 Establishing first contact with the data"
   ]
  },
  {
   "cell_type": "code",
   "execution_count": 2,
   "metadata": {},
   "outputs": [],
   "source": [
    "# This will take a bit of time, it is a large file\n",
    "df_name_basics = pd.read_csv(\"../data/raw/name.basics.tsv.gz\", compression=\"gzip\", sep=\"\\t\")"
   ]
  },
  {
   "cell_type": "markdown",
   "metadata": {},
   "source": [
    "🗣️ **QUESTION TO THE CLASSROOM:** What are the first things we should do when we read a new dataset, **whether** collected by you or from someone else?\n",
    "\n",
    "<div style=\"color:#f8f8f8\">\n",
    "\n",
    "<details><summary>Click here to see some hidden tips</summary>\n",
    "\n",
    "Open new code cells with the following code:\n",
    "\n",
    "```python\n",
    "# Glimpse at the data\n",
    "df_name_basics.head()\n",
    "```\n",
    "\n",
    "```python\n",
    "# Get a bit of info on the data types and memory usage\n",
    "df_name_basics.info()\n",
    "```\n",
    "\n",
    "```bash\n",
    "# How does the memory usage compare to the file size?\n",
    "!ls -lth ../data/raw/\n",
    "```\n",
    "</summary>\n",
    "\n",
    "</div>"
   ]
  },
  {
   "cell_type": "code",
   "execution_count": null,
   "metadata": {},
   "outputs": [
    {
     "data": {
      "text/html": [
       "<div>\n",
       "<style scoped>\n",
       "    .dataframe tbody tr th:only-of-type {\n",
       "        vertical-align: middle;\n",
       "    }\n",
       "\n",
       "    .dataframe tbody tr th {\n",
       "        vertical-align: top;\n",
       "    }\n",
       "\n",
       "    .dataframe thead th {\n",
       "        text-align: right;\n",
       "    }\n",
       "</style>\n",
       "<table border=\"1\" class=\"dataframe\">\n",
       "  <thead>\n",
       "    <tr style=\"text-align: right;\">\n",
       "      <th></th>\n",
       "      <th>nconst</th>\n",
       "      <th>primaryName</th>\n",
       "      <th>birthYear</th>\n",
       "      <th>deathYear</th>\n",
       "      <th>primaryProfession</th>\n",
       "      <th>knownForTitles</th>\n",
       "    </tr>\n",
       "  </thead>\n",
       "  <tbody>\n",
       "    <tr>\n",
       "      <th>0</th>\n",
       "      <td>nm0000001</td>\n",
       "      <td>Fred Astaire</td>\n",
       "      <td>1899</td>\n",
       "      <td>1987</td>\n",
       "      <td>soundtrack,actor,miscellaneous</td>\n",
       "      <td>tt0031983,tt0050419,tt0053137,tt0072308</td>\n",
       "    </tr>\n",
       "    <tr>\n",
       "      <th>1</th>\n",
       "      <td>nm0000002</td>\n",
       "      <td>Lauren Bacall</td>\n",
       "      <td>1924</td>\n",
       "      <td>2014</td>\n",
       "      <td>actress,soundtrack</td>\n",
       "      <td>tt0117057,tt0037382,tt0038355,tt0075213</td>\n",
       "    </tr>\n",
       "    <tr>\n",
       "      <th>2</th>\n",
       "      <td>nm0000003</td>\n",
       "      <td>Brigitte Bardot</td>\n",
       "      <td>1934</td>\n",
       "      <td>\\N</td>\n",
       "      <td>actress,soundtrack,music_department</td>\n",
       "      <td>tt0056404,tt0057345,tt0049189,tt0054452</td>\n",
       "    </tr>\n",
       "    <tr>\n",
       "      <th>3</th>\n",
       "      <td>nm0000004</td>\n",
       "      <td>John Belushi</td>\n",
       "      <td>1949</td>\n",
       "      <td>1982</td>\n",
       "      <td>actor,soundtrack,writer</td>\n",
       "      <td>tt0077975,tt0078723,tt0080455,tt0072562</td>\n",
       "    </tr>\n",
       "    <tr>\n",
       "      <th>4</th>\n",
       "      <td>nm0000005</td>\n",
       "      <td>Ingmar Bergman</td>\n",
       "      <td>1918</td>\n",
       "      <td>2007</td>\n",
       "      <td>writer,director,actor</td>\n",
       "      <td>tt0069467,tt0083922,tt0050976,tt0050986</td>\n",
       "    </tr>\n",
       "  </tbody>\n",
       "</table>\n",
       "</div>"
      ],
      "text/plain": [
       "      nconst      primaryName birthYear deathYear  \\\n",
       "0  nm0000001     Fred Astaire      1899      1987   \n",
       "1  nm0000002    Lauren Bacall      1924      2014   \n",
       "2  nm0000003  Brigitte Bardot      1934        \\N   \n",
       "3  nm0000004     John Belushi      1949      1982   \n",
       "4  nm0000005   Ingmar Bergman      1918      2007   \n",
       "\n",
       "                     primaryProfession  \\\n",
       "0       soundtrack,actor,miscellaneous   \n",
       "1                   actress,soundtrack   \n",
       "2  actress,soundtrack,music_department   \n",
       "3              actor,soundtrack,writer   \n",
       "4                writer,director,actor   \n",
       "\n",
       "                            knownForTitles  \n",
       "0  tt0031983,tt0050419,tt0053137,tt0072308  \n",
       "1  tt0117057,tt0037382,tt0038355,tt0075213  \n",
       "2  tt0056404,tt0057345,tt0049189,tt0054452  \n",
       "3  tt0077975,tt0078723,tt0080455,tt0072562  \n",
       "4  tt0069467,tt0083922,tt0050976,tt0050986  "
      ]
     },
     "metadata": {},
     "output_type": "display_data"
    }
   ],
   "source": [
    "# Glimpse at the data\n",
    "df_name_basics.head()"
   ]
  },
  {
   "cell_type": "code",
   "execution_count": null,
   "metadata": {},
   "outputs": [
    {
     "name": "stdout",
     "output_type": "stream",
     "text": [
      "<class 'pandas.core.frame.DataFrame'>\n",
      "RangeIndex: 13010001 entries, 0 to 13010000\n",
      "Data columns (total 6 columns):\n",
      " #   Column             Dtype \n",
      "---  ------             ----- \n",
      " 0   nconst             object\n",
      " 1   primaryName        object\n",
      " 2   birthYear          object\n",
      " 3   deathYear          object\n",
      " 4   primaryProfession  object\n",
      " 5   knownForTitles     object\n",
      "dtypes: object(6)\n",
      "memory usage: 595.6+ MB\n"
     ]
    }
   ],
   "source": [
    "# Get a bit of info on the data types and memory usage\n",
    "df_name_basics.info()"
   ]
  },
  {
   "cell_type": "code",
   "execution_count": null,
   "metadata": {},
   "outputs": [
    {
     "name": "stdout",
     "output_type": "stream",
     "text": [
      "total 2616056\n",
      "-rw-r--r--@ 1 jon  staff   436M Nov 15 16:02 title.principals.tsv.gz\n",
      "-rw-r--r--@ 1 jon  staff   6.6M Nov 15 16:02 title.ratings.tsv.gz\n",
      "-rw-r--r--@ 1 jon  staff   172M Nov 15 16:01 title.basics.tsv.gz\n",
      "-rw-r--r--@ 1 jon  staff    41M Nov 15 16:01 title.episode.tsv.gz\n",
      "-rw-r--r--@ 1 jon  staff    66M Nov 15 16:01 title.crew.tsv.gz\n",
      "-rw-r--r--@ 1 jon  staff   305M Nov 15 16:01 title.akas.tsv.gz\n",
      "-rw-r--r--@ 1 jon  staff   245M Nov 15 16:01 name.basics.tsv.gz\n"
     ]
    }
   ],
   "source": [
    "# How does the memory usage compare to the file size?\n",
    "!ls -lth ../data/raw/"
   ]
  },
  {
   "cell_type": "markdown",
   "metadata": {},
   "source": [
    "## 1.2 🗃️ Being your best perfectionist with data types\n",
    "\n",
    "🎯 **ACTION POINTS:**\n",
    "\n",
    "Work in groups (same composition as your group project) and do the following:\n",
    "\n",
    "1. Disable GitHub Copilot, and don't use ChatGPT for now. Or it will make this less fun.\n",
    "\n",
    "2. Modify the columns so that, in the end, they have the data types listed above. Try to deal with any errors that may arise.\n",
    "\n",
    "3. Once you solved the errors, go to issue [#1](https://github.com/lse-ds105/w08-imdb-data/issues/1)(https://github.com/lse-ds105/w08-imdb-data/issues/1) that I created in this repository and add your group's solution. (add your group's name)\n",
    "\n",
    "\n",
    "💡 Tips (if stuck):\n",
    "\n",
    "- Look back at your W07 lab notebook to remember how to change data types.\n",
    "- If you get an error, try to understand what it means.\n",
    "- If you need to replace the contents of a column in pandas, you can use the `df[\"column_name\"] = ...` syntax."
   ]
  },
  {
   "cell_type": "code",
   "execution_count": 4,
   "metadata": {},
   "outputs": [],
   "source": [
    "df_name_basics = pd.read_csv(\"../data/raw/name.basics.tsv.gz\", compression=\"gzip\", sep=\"\\t\", na_values=\"\\\\N\")"
   ]
  },
  {
   "cell_type": "code",
   "execution_count": 5,
   "metadata": {},
   "outputs": [
    {
     "name": "stdout",
     "output_type": "stream",
     "text": [
      "<class 'pandas.core.frame.DataFrame'>\n",
      "RangeIndex: 13010001 entries, 0 to 13010000\n",
      "Data columns (total 6 columns):\n",
      " #   Column             Dtype  \n",
      "---  ------             -----  \n",
      " 0   nconst             object \n",
      " 1   primaryName        object \n",
      " 2   birthYear          float64\n",
      " 3   deathYear          float64\n",
      " 4   primaryProfession  object \n",
      " 5   knownForTitles     object \n",
      "dtypes: float64(2), object(4)\n",
      "memory usage: 595.6+ MB\n"
     ]
    }
   ],
   "source": [
    "df_name_basics.info()"
   ]
  },
  {
   "cell_type": "code",
   "execution_count": 6,
   "metadata": {},
   "outputs": [
    {
     "data": {
      "text/html": [
       "<div>\n",
       "<style scoped>\n",
       "    .dataframe tbody tr th:only-of-type {\n",
       "        vertical-align: middle;\n",
       "    }\n",
       "\n",
       "    .dataframe tbody tr th {\n",
       "        vertical-align: top;\n",
       "    }\n",
       "\n",
       "    .dataframe thead th {\n",
       "        text-align: right;\n",
       "    }\n",
       "</style>\n",
       "<table border=\"1\" class=\"dataframe\">\n",
       "  <thead>\n",
       "    <tr style=\"text-align: right;\">\n",
       "      <th></th>\n",
       "      <th>birthYear</th>\n",
       "      <th>deathYear</th>\n",
       "    </tr>\n",
       "  </thead>\n",
       "  <tbody>\n",
       "    <tr>\n",
       "      <th>count</th>\n",
       "      <td>597042.000000</td>\n",
       "      <td>222153.000000</td>\n",
       "    </tr>\n",
       "    <tr>\n",
       "      <th>mean</th>\n",
       "      <td>1952.913492</td>\n",
       "      <td>1992.649849</td>\n",
       "    </tr>\n",
       "    <tr>\n",
       "      <th>std</th>\n",
       "      <td>34.937400</td>\n",
       "      <td>34.546702</td>\n",
       "    </tr>\n",
       "    <tr>\n",
       "      <th>min</th>\n",
       "      <td>1.000000</td>\n",
       "      <td>17.000000</td>\n",
       "    </tr>\n",
       "    <tr>\n",
       "      <th>25%</th>\n",
       "      <td>1932.000000</td>\n",
       "      <td>1979.000000</td>\n",
       "    </tr>\n",
       "    <tr>\n",
       "      <th>50%</th>\n",
       "      <td>1959.000000</td>\n",
       "      <td>2001.000000</td>\n",
       "    </tr>\n",
       "    <tr>\n",
       "      <th>75%</th>\n",
       "      <td>1979.000000</td>\n",
       "      <td>2014.000000</td>\n",
       "    </tr>\n",
       "    <tr>\n",
       "      <th>max</th>\n",
       "      <td>2023.000000</td>\n",
       "      <td>2023.000000</td>\n",
       "    </tr>\n",
       "  </tbody>\n",
       "</table>\n",
       "</div>"
      ],
      "text/plain": [
       "           birthYear      deathYear\n",
       "count  597042.000000  222153.000000\n",
       "mean     1952.913492    1992.649849\n",
       "std        34.937400      34.546702\n",
       "min         1.000000      17.000000\n",
       "25%      1932.000000    1979.000000\n",
       "50%      1959.000000    2001.000000\n",
       "75%      1979.000000    2014.000000\n",
       "max      2023.000000    2023.000000"
      ]
     },
     "execution_count": 6,
     "metadata": {},
     "output_type": "execute_result"
    }
   ],
   "source": [
    "df_name_basics.describe()"
   ]
  },
  {
   "cell_type": "code",
   "execution_count": 7,
   "metadata": {},
   "outputs": [],
   "source": [
    "df_name_basics[\"deathYear\"] = df_name_basics[\"deathYear\"].astype('Int16')\n",
    "df_name_basics[\"birthYear\"] = df_name_basics[\"birthYear\"].astype('Int16')"
   ]
  },
  {
   "cell_type": "markdown",
   "metadata": {},
   "source": [
    "# Part 2: 📊 Exploring the data\n",
    "\n",
    "(This is also an 🎯 **ACTION POINT**)\n",
    "\n",
    "Let's pose a few questions to the data:"
   ]
  },
  {
   "cell_type": "markdown",
   "metadata": {},
   "source": [
    "**Q1:** Summarise: how many people recorded in this dataset are alive, and how many are dead?"
   ]
  },
  {
   "cell_type": "code",
   "execution_count": 11,
   "metadata": {},
   "outputs": [
    {
     "data": {
      "text/plain": [
       "is_alive\n",
       "True     12787848\n",
       "False      222153\n",
       "Name: count, dtype: int64"
      ]
     },
     "execution_count": 11,
     "metadata": {},
     "output_type": "execute_result"
    }
   ],
   "source": [
    "df_name_basics['is_alive'] = df_name_basics['deathYear'].isna()\n",
    "df_name_basics['is_alive'].value_counts()"
   ]
  },
  {
   "cell_type": "markdown",
   "metadata": {},
   "source": [
    "In case you enjoy practising some f-strings:"
   ]
  },
  {
   "cell_type": "code",
   "execution_count": 14,
   "metadata": {},
   "outputs": [
    {
     "name": "stdout",
     "output_type": "stream",
     "text": [
      "Answer: 12787848 people are presumed alive\n",
      "Answer: 222153 people are dead\n"
     ]
    }
   ],
   "source": [
    "print(f\"Answer: {df_name_basics['is_alive'].value_counts()[True]} people are presumed alive\")\n",
    "print(f\"Answer: {df_name_basics['is_alive'].value_counts()[False]} people are dead\")"
   ]
  },
  {
   "cell_type": "markdown",
   "metadata": {},
   "source": [
    "**Q2:** Focusing on those who are dead, calculate their `age_at_death` (in years) as a separate column. Then, plot a histogram of the ages at death. What is the most common age at death?"
   ]
  },
  {
   "cell_type": "code",
   "execution_count": 22,
   "metadata": {},
   "outputs": [
    {
     "data": {
      "text/plain": [
       "count     208468.0\n",
       "mean     71.119625\n",
       "std      16.889026\n",
       "min          -62.0\n",
       "25%           61.0\n",
       "50%           74.0\n",
       "75%           84.0\n",
       "max         1076.0\n",
       "Name: age_at_death, dtype: Float64"
      ]
     },
     "execution_count": 22,
     "metadata": {},
     "output_type": "execute_result"
    }
   ],
   "source": [
    "df_name_basics['age_at_death'] = df_name_basics['deathYear'] - df_name_basics['birthYear']\n",
    "\n",
    "valid_rows = df_name_basics['is_alive'] == False\n",
    "\n",
    "plot_df = df_name_basics[valid_rows]\n",
    "\n",
    "# Investigate problems with the data\n",
    "plot_df['age_at_death'].describe()\n"
   ]
  },
  {
   "cell_type": "markdown",
   "metadata": {},
   "source": [
    "I doubt that anyone lived to be 1000+ years old, and I also doubt that anyone died before they were born. Let's filter out those rows:"
   ]
  },
  {
   "cell_type": "code",
   "execution_count": 26,
   "metadata": {},
   "outputs": [],
   "source": [
    "# Redefine valid_rows\n",
    "valid_rows = (df_name_basics['is_alive'] == False) & (df_name_basics['age_at_death'] > 0) & (df_name_basics['age_at_death'] < 150)\n",
    "\n",
    "# Redefine plot_df\n",
    "plot_df = df_name_basics[valid_rows]"
   ]
  },
  {
   "cell_type": "code",
   "execution_count": 27,
   "metadata": {},
   "outputs": [
    {
     "data": {
      "image/png": "[encoded data removed]",
      "text/plain": [
       "<Figure size 1100x600 with 1 Axes>"
      ]
     },
     "metadata": {
      "image/png": {
       "height": 600,
       "width": 1100
      },
      "needs_background": "light"
     },
     "output_type": "display_data"
    },
    {
     "data": {
      "text/plain": [
       "<Figure Size: (1100 x 600)>"
      ]
     },
     "execution_count": 27,
     "metadata": {},
     "output_type": "execute_result"
    }
   ],
   "source": [
    "p = (\n",
    "    ggplot(plot_df, aes(x='age_at_death')) +\n",
    "    geom_histogram(binwidth=5, fill='blue', color='black', alpha=0.7) +\n",
    "    labs(title='Histogram of Ages at Death', x='Age at Death', y='Frequency') +\n",
    "    theme_minimal() + \n",
    "    theme(figure_size=(11, 6))\n",
    ")\n",
    "\n",
    "p"
   ]
  },
  {
   "cell_type": "markdown",
   "metadata": {},
   "source": [
    "**Q3:** How many primary professions does each person have? Plot a bar chart of the number of professions per person."
   ]
  },
  {
   "cell_type": "code",
   "execution_count": 1,
   "metadata": {},
   "outputs": [],
   "source": [
    "# Your answer here"
   ]
  },
  {
   "cell_type": "markdown",
   "metadata": {},
   "source": [
    "**Q4:** Did those with acting roles die younger or older than those with other roles?"
   ]
  },
  {
   "cell_type": "code",
   "execution_count": 2,
   "metadata": {},
   "outputs": [],
   "source": [
    "# Your answer here"
   ]
  },
  {
   "cell_type": "markdown",
   "metadata": {},
   "source": [
    "# Part 3: 🔃 Data from multiple sources\n",
    "\n",
    "(This is also an 🎯 **ACTION POINT**)"
   ]
  },
  {
   "cell_type": "markdown",
   "metadata": {},
   "source": [
    "This time, you are asked to complement `df_name_basics` from the IMDb dataset with data from another dataset, `df_title_basics`, which contains information about the titles in which each person has participated.\n",
    "\n",
    "\n",
    "**Step 1:** Add a dict column to the `df_name_basics` indicating the genres of the titles in which each person has participated. The dict should have the following format:\n",
    "\n",
    "```python\n",
    "{\n",
    "    \"genre_1\": count_of_titles_in_genre_1,\n",
    "    \"genre_2\": count_of_titles_in_genre_2,\n",
    "    ...\n",
    "}\n",
    "```"
   ]
  },
  {
   "cell_type": "code",
   "execution_count": null,
   "metadata": {},
   "outputs": [],
   "source": []
  },
  {
   "cell_type": "markdown",
   "metadata": {},
   "source": [
    "**Q5:** Focusing on just **movies**, what is the average age of actors in their first movie? What is the average age of actors during their last recorded movie?"
   ]
  },
  {
   "cell_type": "code",
   "execution_count": null,
   "metadata": {},
   "outputs": [],
   "source": []
  }
 ],
 "metadata": {
  "kernelspec": {
   "display_name": "base",
   "language": "python",
   "name": "python3"
  },
  "language_info": {
   "codemirror_mode": {
    "name": "ipython",
    "version": 3
   },
   "file_extension": ".py",
   "mimetype": "text/x-python",
   "name": "python",
   "nbconvert_exporter": "python",
   "pygments_lexer": "ipython3",
   "version": "3.10.8"
  }
 },
 "nbformat": 4,
 "nbformat_minor": 2
}
