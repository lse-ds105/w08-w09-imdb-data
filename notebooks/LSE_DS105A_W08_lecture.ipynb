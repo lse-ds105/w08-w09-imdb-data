{
 "cells": [
  {
   "cell_type": "markdown",
   "metadata": {},
   "source": [
    "LSE Data Science Institute | DS105A (2023/24) | Week 08\n",
    "\n",
    "# 🗓️ Week 08: Pre-processing and grouping data with pandas, a groupby-apply tutorial\n",
    "\n",
    "Theme: Cleaning and reshaping data\n",
    "\n",
    "**LAST UPDATED:** 23 November 2023\n",
    "\n",
    "**AUTHOR:** Dr [Jon Cardoso-Silva](https://jonjoncardoso.github.io)\n",
    "\n",
    "-----\n"
   ]
  },
  {
   "cell_type": "markdown",
   "metadata": {},
   "source": [
    "# **📚 PREPARATION**\n",
    "\n",
    "1. Clone this repository to your computer.\n",
    "2. Add it to your VS Code workspace.\n",
    "3. Go to [IMDb Non-Commercial Datasets](https://developer.imdb.com/non-commercial-datasets/) page, and download all `tsv.gz` files from there, place all of that under the `data/raw/` folder. This folder is gitignored, we don't want to push large data files to GitHub!\n",
    "4. Run:\n",
    "\n",
    "    ```bash\n",
    "    pip install -r requirements.txt\n",
    "    ```"
   ]
  },
  {
   "cell_type": "markdown",
   "metadata": {},
   "source": [
    "## ⚙️ Setup"
   ]
  },
  {
   "cell_type": "code",
   "execution_count": 1,
   "metadata": {},
   "outputs": [],
   "source": [
    "import pandas as pd\n",
    "import matplotlib.pyplot as plt\n",
    "\n",
    "from plotnine import *\n",
    "from pprint import pprint\n",
    "from tqdm.notebook import tqdm\n",
    "\n",
    "# Configure some settings for high quality plots\n",
    "%config InlineBackend.figure_formats = ['svg']\n",
    "%matplotlib inline"
   ]
  },
  {
   "cell_type": "markdown",
   "metadata": {},
   "source": [
    "# Part 1: Read zipped files\n",
    "\n",
    "You will have noticed that the files we downloaded from IMDb are compressed, which means they were transformed from **plain text** into a convenient **binary format** that uses less space. This is a good practice when handling large text-based files, making them easier to store and transfer. However, we _do_ need to read the files into memory, and for that, we need to decompress them.\n",
    "\n",
    "**How to decompress files?**\n",
    "\n",
    "- If you are on Windows, you can use software like [7-Zip](https://www.7-zip.org/). After installing it, right-click on the file and select \"Extract here\".\n",
    "- If you are on Mac, you can use the built-in Archive Utility. Right-click on the file and select \"Open with\" > \"Archive Utility\". Or, simply double-click on the file.\n",
    "\n",
    "**🐼 `pandas` for the rescue!**\n",
    "\n",
    "Luckily, `pandas` has our back. It can read compressed files directly without the need to decompress them first. If you specify the `compression` argument, the `pd.read_csv()` function can read compressed files directly  <sup>\\[[1](https://pandas.pydata.org/pandas-docs/stable/reference/api/pandas.read_csv.html)\\]</sup>\n",
    "\n",
    "If the file inside the compressed `.gz` file was a CSV, we could read it like this:\n",
    "\n",
    "```python\n",
    "pd.read_csv(\"../data/raw/name.basics.tsv.gz\", compression=\"gzip\").head()\n",
    "```\n",
    "\n",
    "However, note that the files we downloaded from IMDb are **TSV** files, not CSV. TSV stands for **Tab-Separated Values**, and it is a format similar to CSV, but instead of using commas to separate values, it uses tabs (`\\t`). Why use TSV? Who knows. The developers thought it was a good idea, I guess. \n",
    "\n",
    "Anyway, since the format is still very similar to CSV, we can use the same function to read it, but we need to specify the `sep` argument to tell `pandas` that the separator is a tab (`\\t`):"
   ]
  },
  {
   "cell_type": "markdown",
   "metadata": {},
   "source": [
    "## 1.1: 👽 Establishing first contact with the data"
   ]
  },
  {
   "cell_type": "code",
   "execution_count": null,
   "metadata": {},
   "outputs": [],
   "source": [
    "# This will take a bit of time, it is a large file\n",
    "df_name_basics = pd.read_csv(\"../data/raw/name.basics.tsv.gz\", compression=\"gzip\", sep=\"\\t\")"
   ]
  },
  {
   "cell_type": "markdown",
   "metadata": {},
   "source": [
    "🗣️ **QUESTION TO THE CLASSROOM:** What are the first things we should do when we read a new dataset, **whether** collected by you or from someone else?\n",
    "\n",
    "<div style=\"color:#f8f8f8\">\n",
    "\n",
    "<details><summary>Click here to see some hidden tips</summary>\n",
    "\n",
    "Open new code cells with the following code:\n",
    "\n",
    "```python\n",
    "# Glimpse at the data\n",
    "df_name_basics.head()\n",
    "```\n",
    "\n",
    "```python\n",
    "# Get a bit of info on the data types and memory usage\n",
    "df_name_basics.info()\n",
    "```\n",
    "\n",
    "```bash\n",
    "# How does the memory usage compare to the file size?\n",
    "!ls -lth ../data/raw/\n",
    "```\n",
    "</summary>\n",
    "\n",
    "</div>"
   ]
  },
  {
   "cell_type": "code",
   "execution_count": null,
   "metadata": {},
   "outputs": [],
   "source": [
    "# Glimpse at the data\n",
    "df_name_basics.head()"
   ]
  },
  {
   "cell_type": "code",
   "execution_count": null,
   "metadata": {},
   "outputs": [],
   "source": [
    "# Get a bit of info on the data types and memory usage\n",
    "df_name_basics.info()"
   ]
  },
  {
   "cell_type": "code",
   "execution_count": null,
   "metadata": {},
   "outputs": [],
   "source": [
    "# How does the memory usage compare to the file size?\n",
    "!ls -lth ../data/raw/"
   ]
  },
  {
   "cell_type": "markdown",
   "metadata": {},
   "source": [
    "## 1.2 🗃️ Being your best perfectionist with data types\n",
    "\n",
    "🎯 **ACTION POINTS:**\n",
    "\n",
    "Work in groups (same composition as your group project) and do the following:\n",
    "\n",
    "1. Disable GitHub Copilot, and don't use ChatGPT for now. Or it will make this less fun.\n",
    "\n",
    "2. Modify the columns so that, in the end, they have the data types listed above. Try to deal with any errors that may arise.\n",
    "\n",
    "3. Once you solved the errors, go to issue [#1](https://github.com/lse-ds105/w08-imdb-data/issues/1)(https://github.com/lse-ds105/w08-imdb-data/issues/1) that I created in this repository and add your group's solution. (add your group's name)\n",
    "\n",
    "\n",
    "💡 Tips (if stuck):\n",
    "\n",
    "- Look back at your W07 lab notebook to remember how to change data types.\n",
    "- If you get an error, try to understand what it means.\n",
    "- If you need to replace the contents of a column in pandas, you can use the `df[\"column_name\"] = ...` syntax."
   ]
  },
  {
   "cell_type": "code",
   "execution_count": 3,
   "metadata": {},
   "outputs": [],
   "source": [
    "df_name_basics = pd.read_csv(\"../data/raw/name.basics.tsv.gz\", \n",
    "                             compression=\"gzip\", \n",
    "                             sep=\"\\t\",\n",
    "                             na_values=\"\\\\N\", \n",
    "                             nrows=100000)"
   ]
  },
  {
   "cell_type": "code",
   "execution_count": 4,
   "metadata": {},
   "outputs": [
    {
     "name": "stdout",
     "output_type": "stream",
     "text": [
      "<class 'pandas.core.frame.DataFrame'>\n",
      "RangeIndex: 100000 entries, 0 to 99999\n",
      "Data columns (total 6 columns):\n",
      " #   Column             Non-Null Count   Dtype  \n",
      "---  ------             --------------   -----  \n",
      " 0   nconst             100000 non-null  object \n",
      " 1   primaryName        100000 non-null  object \n",
      " 2   birthYear          31061 non-null   float64\n",
      " 3   deathYear          15756 non-null   float64\n",
      " 4   primaryProfession  97816 non-null   object \n",
      " 5   knownForTitles     99092 non-null   object \n",
      "dtypes: float64(2), object(4)\n",
      "memory usage: 4.6+ MB\n"
     ]
    }
   ],
   "source": [
    "df_name_basics.info()"
   ]
  },
  {
   "cell_type": "code",
   "execution_count": null,
   "metadata": {},
   "outputs": [],
   "source": [
    "df_name_basics.describe()"
   ]
  },
  {
   "cell_type": "code",
   "execution_count": 5,
   "metadata": {},
   "outputs": [],
   "source": [
    "df_name_basics[\"deathYear\"] = df_name_basics[\"deathYear\"].astype('Int16')\n",
    "df_name_basics[\"birthYear\"] = df_name_basics[\"birthYear\"].astype('Int16')"
   ]
  },
  {
   "cell_type": "markdown",
   "metadata": {},
   "source": [
    "# Part 2: 📊 Exploring the data\n",
    "\n",
    "(This is also an 🎯 **ACTION POINT**)\n",
    "\n",
    "Let's pose a few questions to the data:"
   ]
  },
  {
   "cell_type": "markdown",
   "metadata": {},
   "source": [
    "**Q1:** Summarise: how many people recorded in this dataset are alive, and how many are dead?"
   ]
  },
  {
   "cell_type": "code",
   "execution_count": 6,
   "metadata": {},
   "outputs": [
    {
     "data": {
      "text/plain": [
       "is_alive\n",
       "True     84244\n",
       "False    15756\n",
       "Name: count, dtype: int64"
      ]
     },
     "execution_count": 6,
     "metadata": {},
     "output_type": "execute_result"
    }
   ],
   "source": [
    "df_name_basics['is_alive'] = df_name_basics['deathYear'].isna()\n",
    "df_name_basics['is_alive'].value_counts()"
   ]
  },
  {
   "cell_type": "markdown",
   "metadata": {},
   "source": [
    "In case you enjoy practising some f-strings:"
   ]
  },
  {
   "cell_type": "code",
   "execution_count": null,
   "metadata": {},
   "outputs": [],
   "source": [
    "print(f\"Answer: {df_name_basics['is_alive'].value_counts()[True]} people are presumed alive\")\n",
    "print(f\"Answer: {df_name_basics['is_alive'].value_counts()[False]} people are dead\")"
   ]
  },
  {
   "cell_type": "markdown",
   "metadata": {},
   "source": [
    "**Q2:** Focusing on those who are dead, calculate their `age_at_death` (in years) as a separate column. Then, plot a histogram of the ages at death. What is the most common age at death?"
   ]
  },
  {
   "cell_type": "code",
   "execution_count": 7,
   "metadata": {},
   "outputs": [
    {
     "data": {
      "text/plain": [
       "count      15341.0\n",
       "mean     72.316472\n",
       "std      14.949704\n",
       "min            0.0\n",
       "25%           63.0\n",
       "50%           74.0\n",
       "75%           84.0\n",
       "max          112.0\n",
       "Name: age_at_death, dtype: Float64"
      ]
     },
     "execution_count": 7,
     "metadata": {},
     "output_type": "execute_result"
    }
   ],
   "source": [
    "df_name_basics['age_at_death'] = df_name_basics['deathYear'] - df_name_basics['birthYear']\n",
    "\n",
    "valid_rows = df_name_basics['is_alive'] == False\n",
    "\n",
    "plot_df = df_name_basics[valid_rows]\n",
    "\n",
    "# Investigate problems with the data\n",
    "plot_df['age_at_death'].describe()\n"
   ]
  },
  {
   "cell_type": "markdown",
   "metadata": {},
   "source": [
    "I doubt that anyone lived to be 1000+ years old, and I also doubt that anyone died before they were born. Let's filter out those rows:"
   ]
  },
  {
   "cell_type": "code",
   "execution_count": null,
   "metadata": {},
   "outputs": [],
   "source": [
    "# Redefine valid_rows\n",
    "valid_rows = (df_name_basics['is_alive'] == False) & (df_name_basics['age_at_death'] > 0) & (df_name_basics['age_at_death'] < 150)\n",
    "\n",
    "# Redefine plot_df\n",
    "plot_df = df_name_basics[valid_rows]"
   ]
  },
  {
   "cell_type": "code",
   "execution_count": null,
   "metadata": {},
   "outputs": [],
   "source": [
    "p = (\n",
    "    ggplot(plot_df, aes(x='age_at_death')) +\n",
    "    geom_histogram(binwidth=5, fill='blue', color='black', alpha=0.7) +\n",
    "    labs(title='Histogram of Ages at Death', x='Age at Death', y='Frequency') +\n",
    "    theme_minimal() + \n",
    "    theme(figure_size=(11, 6))\n",
    ")\n",
    "\n",
    "p"
   ]
  },
  {
   "cell_type": "markdown",
   "metadata": {},
   "source": [
    "**Q3:** How many primary professions does each person have? Plot a bar chart of the number of professions per person."
   ]
  },
  {
   "cell_type": "code",
   "execution_count": 20,
   "metadata": {},
   "outputs": [],
   "source": [
    "df_name_basics['primaryProfession'] = df_name_basics['primaryProfession'].astype(str)"
   ]
  },
  {
   "cell_type": "code",
   "execution_count": 18,
   "metadata": {},
   "outputs": [],
   "source": [
    "def split_professions(professions_list):\n",
    "    return professions_list.split(',')"
   ]
  },
  {
   "cell_type": "code",
   "execution_count": 29,
   "metadata": {},
   "outputs": [],
   "source": [
    "df_name_basics['num_professions'] = df_name_basics['primaryProfession'].apply(split_professions).apply(len)"
   ]
  },
  {
   "cell_type": "code",
   "execution_count": 31,
   "metadata": {},
   "outputs": [
    {
     "data": {
      "text/plain": [
       "num_professions\n",
       "1    57319\n",
       "3    26209\n",
       "2    16472\n",
       "Name: count, dtype: int64"
      ]
     },
     "execution_count": 31,
     "metadata": {},
     "output_type": "execute_result"
    }
   ],
   "source": [
    "df_name_basics['num_professions'].value_counts()"
   ]
  },
  {
   "cell_type": "code",
   "execution_count": 32,
   "metadata": {},
   "outputs": [
    {
     "data": {
      "image/png": "[encoded data removed]",
      "text/plain": [
       "<Figure size 640x480 with 1 Axes>"
      ]
     },
     "metadata": {
      "image/png": {
       "height": 480,
       "width": 640
      }
     },
     "output_type": "display_data"
    },
    {
     "data": {
      "text/plain": [
       "<Figure Size: (640 x 480)>"
      ]
     },
     "execution_count": 32,
     "metadata": {},
     "output_type": "execute_result"
    }
   ],
   "source": [
    "plot_df = df_name_basics[['num_professions']]\n",
    "\n",
    "g = (\n",
    "    ggplot(plot_df, aes(x='num_professions')) + \n",
    "    geom_bar()\n",
    "\n",
    ")\n",
    "\n",
    "g"
   ]
  },
  {
   "cell_type": "code",
   "execution_count": 42,
   "metadata": {},
   "outputs": [
    {
     "data": {
      "text/html": [
       "<div>\n",
       "<style scoped>\n",
       "    .dataframe tbody tr th:only-of-type {\n",
       "        vertical-align: middle;\n",
       "    }\n",
       "\n",
       "    .dataframe tbody tr th {\n",
       "        vertical-align: top;\n",
       "    }\n",
       "\n",
       "    .dataframe thead th {\n",
       "        text-align: right;\n",
       "    }\n",
       "</style>\n",
       "<table border=\"1\" class=\"dataframe\">\n",
       "  <thead>\n",
       "    <tr style=\"text-align: right;\">\n",
       "      <th></th>\n",
       "      <th>num_professions</th>\n",
       "      <th>count</th>\n",
       "    </tr>\n",
       "  </thead>\n",
       "  <tbody>\n",
       "    <tr>\n",
       "      <th>0</th>\n",
       "      <td>1</td>\n",
       "      <td>57319</td>\n",
       "    </tr>\n",
       "    <tr>\n",
       "      <th>1</th>\n",
       "      <td>2</td>\n",
       "      <td>16472</td>\n",
       "    </tr>\n",
       "    <tr>\n",
       "      <th>2</th>\n",
       "      <td>3</td>\n",
       "      <td>26209</td>\n",
       "    </tr>\n",
       "  </tbody>\n",
       "</table>\n",
       "</div>"
      ],
      "text/plain": [
       "   num_professions  count\n",
       "0                1  57319\n",
       "1                2  16472\n",
       "2                3  26209"
      ]
     },
     "execution_count": 42,
     "metadata": {},
     "output_type": "execute_result"
    }
   ],
   "source": [
    "# group-by -> apply\n",
    "\n",
    "plot_df = df_name_basics.groupby(['num_professions']).apply(len).reset_index()\n",
    "plot_df.columns = ['num_professions', 'count']\n",
    "plot_df"
   ]
  },
  {
   "cell_type": "code",
   "execution_count": 43,
   "metadata": {},
   "outputs": [
    {
     "data": {
      "image/png": "[encoded data removed]",
      "text/plain": [
       "<Figure size 640x480 with 1 Axes>"
      ]
     },
     "metadata": {
      "image/png": {
       "height": 480,
       "width": 640
      }
     },
     "output_type": "display_data"
    },
    {
     "data": {
      "text/plain": [
       "<Figure Size: (640 x 480)>"
      ]
     },
     "execution_count": 43,
     "metadata": {},
     "output_type": "execute_result"
    }
   ],
   "source": [
    "g = (\n",
    "    ggplot(plot_df, aes(x='num_professions', y='count')) + \n",
    "    geom_col()\n",
    "\n",
    ")\n",
    "\n",
    "g"
   ]
  },
  {
   "cell_type": "markdown",
   "metadata": {},
   "source": [
    "**Q4:** Did those with acting roles die younger or older than those with other roles?"
   ]
  },
  {
   "cell_type": "code",
   "execution_count": null,
   "metadata": {},
   "outputs": [],
   "source": [
    "# Your answer here"
   ]
  },
  {
   "cell_type": "markdown",
   "metadata": {},
   "source": [
    "# Part 3: 🔃 Data from multiple sources\n",
    "\n",
    "(This is also an 🎯 **ACTION POINT**)"
   ]
  },
  {
   "cell_type": "markdown",
   "metadata": {},
   "source": [
    "This time, you are asked to complement `df_name_basics` from the IMDb dataset with data from another dataset, `df_title_basics`, which contains information about the titles in which each person has participated.\n",
    "\n",
    "\n",
    "**Step 1:** Add a dict column to the `df_name_basics` indicating the genres of the titles in which each person has participated. The dict should have the following format:\n",
    "\n",
    "```python\n",
    "{\n",
    "    \"genre_1\": count_of_titles_in_genre_1,\n",
    "    \"genre_2\": count_of_titles_in_genre_2,\n",
    "    ...\n",
    "}\n",
    "```"
   ]
  },
  {
   "cell_type": "code",
   "execution_count": null,
   "metadata": {},
   "outputs": [],
   "source": []
  },
  {
   "cell_type": "code",
   "execution_count": null,
   "metadata": {},
   "outputs": [],
   "source": []
  },
  {
   "cell_type": "markdown",
   "metadata": {},
   "source": [
    "**Q5:** Focusing on just **movies**, what is the average age of actors in their first movie? What is the average age of actors during their last recorded movie?"
   ]
  },
  {
   "cell_type": "code",
   "execution_count": null,
   "metadata": {},
   "outputs": [],
   "source": []
  }
 ],
 "metadata": {
  "kernelspec": {
   "display_name": "base",
   "language": "python",
   "name": "python3"
  },
  "language_info": {
   "codemirror_mode": {
    "name": "ipython",
    "version": 3
   },
   "file_extension": ".py",
   "mimetype": "text/x-python",
   "name": "python",
   "nbconvert_exporter": "python",
   "pygments_lexer": "ipython3",
   "version": "3.11.5"
  }
 },
 "nbformat": 4,
 "nbformat_minor": 2
}
